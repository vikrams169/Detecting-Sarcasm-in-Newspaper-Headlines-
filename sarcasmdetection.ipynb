{
  "nbformat": 4,
  "nbformat_minor": 0,
  "metadata": {
    "colab": {
      "name": "sarcasmdetection.ipynb",
      "provenance": [],
      "collapsed_sections": []
    },
    "kernelspec": {
      "name": "python3",
      "display_name": "Python 3"
    },
    "accelerator": "GPU"
  },
  "cells": [
    {
      "cell_type": "code",
      "metadata": {
        "id": "jdoVzPhhnyVS"
      },
      "source": [
        "#Importing the main libraries\n",
        "import numpy as np\n",
        "import pandas as pd\n",
        "import matplotlib.pyplot as plt\n",
        "import tensorflow as tf\n",
        "import keras"
      ],
      "execution_count": 13,
      "outputs": []
    },
    {
      "cell_type": "code",
      "metadata": {
        "id": "0S4jJo5un9Cm",
        "colab": {
          "base_uri": "https://localhost:8080/"
        },
        "outputId": "d85d8656-66ba-48d3-d8e1-76cec79cbd79"
      },
      "source": [
        "#Taking note of the current versions used\n",
        "print(tf.__version__)\n",
        "print(keras.__version__)"
      ],
      "execution_count": 14,
      "outputs": [
        {
          "output_type": "stream",
          "text": [
            "2.4.1\n",
            "2.4.3\n"
          ],
          "name": "stdout"
        }
      ]
    },
    {
      "cell_type": "code",
      "metadata": {
        "id": "XpPUlklIn9u4",
        "colab": {
          "base_uri": "https://localhost:8080/",
          "height": 195
        },
        "outputId": "a8b91046-d529-4d23-c651-162747c049df"
      },
      "source": [
        "#loading the dataset, from the json file stored in the given directory below, and visualising it\n",
        "import os\n",
        "main_directory=\"/content/drive/My Drive/Sarcasm/archive\"\n",
        "data_files=os.listdir(main_directory)\n",
        "data_directory=main_directory + \"/\" + data_files[0]\n",
        "data=pd.read_json(data_directory,lines=True)\n",
        "data.head()"
      ],
      "execution_count": 15,
      "outputs": [
        {
          "output_type": "execute_result",
          "data": {
            "text/html": [
              "<div>\n",
              "<style scoped>\n",
              "    .dataframe tbody tr th:only-of-type {\n",
              "        vertical-align: middle;\n",
              "    }\n",
              "\n",
              "    .dataframe tbody tr th {\n",
              "        vertical-align: top;\n",
              "    }\n",
              "\n",
              "    .dataframe thead th {\n",
              "        text-align: right;\n",
              "    }\n",
              "</style>\n",
              "<table border=\"1\" class=\"dataframe\">\n",
              "  <thead>\n",
              "    <tr style=\"text-align: right;\">\n",
              "      <th></th>\n",
              "      <th>is_sarcastic</th>\n",
              "      <th>headline</th>\n",
              "      <th>article_link</th>\n",
              "    </tr>\n",
              "  </thead>\n",
              "  <tbody>\n",
              "    <tr>\n",
              "      <th>0</th>\n",
              "      <td>1</td>\n",
              "      <td>thirtysomething scientists unveil doomsday clo...</td>\n",
              "      <td>https://www.theonion.com/thirtysomething-scien...</td>\n",
              "    </tr>\n",
              "    <tr>\n",
              "      <th>1</th>\n",
              "      <td>0</td>\n",
              "      <td>dem rep. totally nails why congress is falling...</td>\n",
              "      <td>https://www.huffingtonpost.com/entry/donna-edw...</td>\n",
              "    </tr>\n",
              "    <tr>\n",
              "      <th>2</th>\n",
              "      <td>0</td>\n",
              "      <td>eat your veggies: 9 deliciously different recipes</td>\n",
              "      <td>https://www.huffingtonpost.com/entry/eat-your-...</td>\n",
              "    </tr>\n",
              "    <tr>\n",
              "      <th>3</th>\n",
              "      <td>1</td>\n",
              "      <td>inclement weather prevents liar from getting t...</td>\n",
              "      <td>https://local.theonion.com/inclement-weather-p...</td>\n",
              "    </tr>\n",
              "    <tr>\n",
              "      <th>4</th>\n",
              "      <td>1</td>\n",
              "      <td>mother comes pretty close to using word 'strea...</td>\n",
              "      <td>https://www.theonion.com/mother-comes-pretty-c...</td>\n",
              "    </tr>\n",
              "  </tbody>\n",
              "</table>\n",
              "</div>"
            ],
            "text/plain": [
              "   is_sarcastic  ...                                       article_link\n",
              "0             1  ...  https://www.theonion.com/thirtysomething-scien...\n",
              "1             0  ...  https://www.huffingtonpost.com/entry/donna-edw...\n",
              "2             0  ...  https://www.huffingtonpost.com/entry/eat-your-...\n",
              "3             1  ...  https://local.theonion.com/inclement-weather-p...\n",
              "4             1  ...  https://www.theonion.com/mother-comes-pretty-c...\n",
              "\n",
              "[5 rows x 3 columns]"
            ]
          },
          "metadata": {
            "tags": []
          },
          "execution_count": 15
        }
      ]
    },
    {
      "cell_type": "code",
      "metadata": {
        "id": "ymGHkClhoOAb",
        "colab": {
          "base_uri": "https://localhost:8080/",
          "height": 195
        },
        "outputId": "895ddd4d-ed52-4a74-d662-941c61db1562"
      },
      "source": [
        "#Removing the link, and putting the organisation in its place\n",
        "import re\n",
        "data[\"organization\"]=data[\"article_link\"].apply(lambda x: re.findall(r\"\\w+\",x)[2])\n",
        "data=data.drop([\"article_link\"],axis=1)\n",
        "data.head()"
      ],
      "execution_count": 16,
      "outputs": [
        {
          "output_type": "execute_result",
          "data": {
            "text/html": [
              "<div>\n",
              "<style scoped>\n",
              "    .dataframe tbody tr th:only-of-type {\n",
              "        vertical-align: middle;\n",
              "    }\n",
              "\n",
              "    .dataframe tbody tr th {\n",
              "        vertical-align: top;\n",
              "    }\n",
              "\n",
              "    .dataframe thead th {\n",
              "        text-align: right;\n",
              "    }\n",
              "</style>\n",
              "<table border=\"1\" class=\"dataframe\">\n",
              "  <thead>\n",
              "    <tr style=\"text-align: right;\">\n",
              "      <th></th>\n",
              "      <th>is_sarcastic</th>\n",
              "      <th>headline</th>\n",
              "      <th>organization</th>\n",
              "    </tr>\n",
              "  </thead>\n",
              "  <tbody>\n",
              "    <tr>\n",
              "      <th>0</th>\n",
              "      <td>1</td>\n",
              "      <td>thirtysomething scientists unveil doomsday clo...</td>\n",
              "      <td>theonion</td>\n",
              "    </tr>\n",
              "    <tr>\n",
              "      <th>1</th>\n",
              "      <td>0</td>\n",
              "      <td>dem rep. totally nails why congress is falling...</td>\n",
              "      <td>huffingtonpost</td>\n",
              "    </tr>\n",
              "    <tr>\n",
              "      <th>2</th>\n",
              "      <td>0</td>\n",
              "      <td>eat your veggies: 9 deliciously different recipes</td>\n",
              "      <td>huffingtonpost</td>\n",
              "    </tr>\n",
              "    <tr>\n",
              "      <th>3</th>\n",
              "      <td>1</td>\n",
              "      <td>inclement weather prevents liar from getting t...</td>\n",
              "      <td>theonion</td>\n",
              "    </tr>\n",
              "    <tr>\n",
              "      <th>4</th>\n",
              "      <td>1</td>\n",
              "      <td>mother comes pretty close to using word 'strea...</td>\n",
              "      <td>theonion</td>\n",
              "    </tr>\n",
              "  </tbody>\n",
              "</table>\n",
              "</div>"
            ],
            "text/plain": [
              "   is_sarcastic  ...    organization\n",
              "0             1  ...        theonion\n",
              "1             0  ...  huffingtonpost\n",
              "2             0  ...  huffingtonpost\n",
              "3             1  ...        theonion\n",
              "4             1  ...        theonion\n",
              "\n",
              "[5 rows x 3 columns]"
            ]
          },
          "metadata": {
            "tags": []
          },
          "execution_count": 16
        }
      ]
    },
    {
      "cell_type": "code",
      "metadata": {
        "colab": {
          "base_uri": "https://localhost:8080/",
          "height": 35
        },
        "id": "I2165Z9iTyak",
        "outputId": "e8496850-5fbd-4793-e7c2-e7f175fa27a3"
      },
      "source": [
        "#Sample Headline\n",
        "x=data['headline'][1396]\n",
        "x"
      ],
      "execution_count": 17,
      "outputs": [
        {
          "output_type": "execute_result",
          "data": {
            "application/vnd.google.colaboratory.intrinsic+json": {
              "type": "string"
            },
            "text/plain": [
              "'7 questions about the recent oil price slump'"
            ]
          },
          "metadata": {
            "tags": []
          },
          "execution_count": 17
        }
      ]
    },
    {
      "cell_type": "code",
      "metadata": {
        "id": "x4OPJmn1oOSa",
        "colab": {
          "base_uri": "https://localhost:8080/"
        },
        "outputId": "8c3f7b40-0ace-4079-df35-ac074cc76fcc"
      },
      "source": [
        "#Now, before any other preprocessing is done, let it be verified if whether or not the data is balanced\n",
        "#Checking the nature of data\n",
        "data.info()"
      ],
      "execution_count": 18,
      "outputs": [
        {
          "output_type": "stream",
          "text": [
            "<class 'pandas.core.frame.DataFrame'>\n",
            "RangeIndex: 28619 entries, 0 to 28618\n",
            "Data columns (total 3 columns):\n",
            " #   Column        Non-Null Count  Dtype \n",
            "---  ------        --------------  ----- \n",
            " 0   is_sarcastic  28619 non-null  int64 \n",
            " 1   headline      28619 non-null  object\n",
            " 2   organization  28619 non-null  object\n",
            "dtypes: int64(1), object(2)\n",
            "memory usage: 670.9+ KB\n"
          ],
          "name": "stdout"
        }
      ]
    },
    {
      "cell_type": "code",
      "metadata": {
        "id": "ERWA4R2toOo8",
        "colab": {
          "base_uri": "https://localhost:8080/",
          "height": 284
        },
        "outputId": "af974d67-e61c-46bc-9f87-8da0e597d361"
      },
      "source": [
        "#Understanding the data, to see if it is skewed or not\n",
        "data.describe()"
      ],
      "execution_count": 19,
      "outputs": [
        {
          "output_type": "execute_result",
          "data": {
            "text/html": [
              "<div>\n",
              "<style scoped>\n",
              "    .dataframe tbody tr th:only-of-type {\n",
              "        vertical-align: middle;\n",
              "    }\n",
              "\n",
              "    .dataframe tbody tr th {\n",
              "        vertical-align: top;\n",
              "    }\n",
              "\n",
              "    .dataframe thead th {\n",
              "        text-align: right;\n",
              "    }\n",
              "</style>\n",
              "<table border=\"1\" class=\"dataframe\">\n",
              "  <thead>\n",
              "    <tr style=\"text-align: right;\">\n",
              "      <th></th>\n",
              "      <th>is_sarcastic</th>\n",
              "    </tr>\n",
              "  </thead>\n",
              "  <tbody>\n",
              "    <tr>\n",
              "      <th>count</th>\n",
              "      <td>28619.000000</td>\n",
              "    </tr>\n",
              "    <tr>\n",
              "      <th>mean</th>\n",
              "      <td>0.476397</td>\n",
              "    </tr>\n",
              "    <tr>\n",
              "      <th>std</th>\n",
              "      <td>0.499451</td>\n",
              "    </tr>\n",
              "    <tr>\n",
              "      <th>min</th>\n",
              "      <td>0.000000</td>\n",
              "    </tr>\n",
              "    <tr>\n",
              "      <th>25%</th>\n",
              "      <td>0.000000</td>\n",
              "    </tr>\n",
              "    <tr>\n",
              "      <th>50%</th>\n",
              "      <td>0.000000</td>\n",
              "    </tr>\n",
              "    <tr>\n",
              "      <th>75%</th>\n",
              "      <td>1.000000</td>\n",
              "    </tr>\n",
              "    <tr>\n",
              "      <th>max</th>\n",
              "      <td>1.000000</td>\n",
              "    </tr>\n",
              "  </tbody>\n",
              "</table>\n",
              "</div>"
            ],
            "text/plain": [
              "       is_sarcastic\n",
              "count  28619.000000\n",
              "mean       0.476397\n",
              "std        0.499451\n",
              "min        0.000000\n",
              "25%        0.000000\n",
              "50%        0.000000\n",
              "75%        1.000000\n",
              "max        1.000000"
            ]
          },
          "metadata": {
            "tags": []
          },
          "execution_count": 19
        }
      ]
    },
    {
      "cell_type": "code",
      "metadata": {
        "id": "667c7N3RoPF8",
        "colab": {
          "base_uri": "https://localhost:8080/",
          "height": 281
        },
        "outputId": "c2295fc0-7451-4d05-b60b-cb5d553c4db7"
      },
      "source": [
        "#The above statements can be visualised as\n",
        "sarcastic=0\n",
        "for i in range(len(data[\"is_sarcastic\"])):\n",
        "    if data[\"is_sarcastic\"].iloc[i]==1:\n",
        "        sarcastic+=1\n",
        "normal=len(data[\"is_sarcastic\"])-sarcastic\n",
        "label_values={\"Sarcastic Headlines\" : sarcastic, \"Non-Sarcastic Headlines\" : normal}\n",
        "plt.bar(label_values.keys(),label_values.values(),align=\"center\")\n",
        "plt.title(\"Number of Sarcastic vs Non-Sarcastic Headlines\")\n",
        "plt.ylabel(\"Number of Headlines\")\n",
        "plt.show()"
      ],
      "execution_count": 20,
      "outputs": [
        {
          "output_type": "display_data",
          "data": {
            "image/png": "[encoded data removed]",
            "text/plain": [
              "<Figure size 432x288 with 1 Axes>"
            ]
          },
          "metadata": {
            "tags": [],
            "needs_background": "light"
          }
        }
      ]
    },
    {
      "cell_type": "code",
      "metadata": {
        "id": "Hj7MH6p8oXvO",
        "colab": {
          "base_uri": "https://localhost:8080/",
          "height": 281
        },
        "outputId": "4c36ded3-abe0-45b7-ad30-e5cfc602c759"
      },
      "source": [
        "#Now, to ignore the effect of the organization on whether a headline is sarcastic, we need to check for skew\n",
        "#list(data[\"organization\"].unique()) returns only two organizations 'huffingtonpost' and 'theonion'\n",
        "org_labels={\"huffingtonpost\" : 0, \"theonion\" : 0}\n",
        "for i in range(len(data[\"organization\"])):\n",
        "    if data[\"is_sarcastic\"].iloc[i]==1:\n",
        "        org_labels[data[\"organization\"].iloc[i]]+=1\n",
        "plt.bar(org_labels.keys(),org_labels.values(),align=\"center\")\n",
        "plt.title(\"Comparing Number of Sarcastic Headlines per Organization\")\n",
        "plt.ylabel(\"Number of Headlines\")\n",
        "plt.show()"
      ],
      "execution_count": 21,
      "outputs": [
        {
          "output_type": "display_data",
          "data": {
            "image/png": "[encoded data removed]",
            "text/plain": [
              "<Figure size 432x288 with 1 Axes>"
            ]
          },
          "metadata": {
            "tags": [],
            "needs_background": "light"
          }
        }
      ]
    },
    {
      "cell_type": "code",
      "metadata": {
        "id": "IEAi10hDoYaN",
        "colab": {
          "base_uri": "https://localhost:8080/",
          "height": 195
        },
        "outputId": "4d695db6-06af-48ce-e8c8-15d23bf22fd1"
      },
      "source": [
        "#Dropping the \"organization\" column\n",
        "data=data.drop([\"organization\"],axis=1)\n",
        "data.head()"
      ],
      "execution_count": 22,
      "outputs": [
        {
          "output_type": "execute_result",
          "data": {
            "text/html": [
              "<div>\n",
              "<style scoped>\n",
              "    .dataframe tbody tr th:only-of-type {\n",
              "        vertical-align: middle;\n",
              "    }\n",
              "\n",
              "    .dataframe tbody tr th {\n",
              "        vertical-align: top;\n",
              "    }\n",
              "\n",
              "    .dataframe thead th {\n",
              "        text-align: right;\n",
              "    }\n",
              "</style>\n",
              "<table border=\"1\" class=\"dataframe\">\n",
              "  <thead>\n",
              "    <tr style=\"text-align: right;\">\n",
              "      <th></th>\n",
              "      <th>is_sarcastic</th>\n",
              "      <th>headline</th>\n",
              "    </tr>\n",
              "  </thead>\n",
              "  <tbody>\n",
              "    <tr>\n",
              "      <th>0</th>\n",
              "      <td>1</td>\n",
              "      <td>thirtysomething scientists unveil doomsday clo...</td>\n",
              "    </tr>\n",
              "    <tr>\n",
              "      <th>1</th>\n",
              "      <td>0</td>\n",
              "      <td>dem rep. totally nails why congress is falling...</td>\n",
              "    </tr>\n",
              "    <tr>\n",
              "      <th>2</th>\n",
              "      <td>0</td>\n",
              "      <td>eat your veggies: 9 deliciously different recipes</td>\n",
              "    </tr>\n",
              "    <tr>\n",
              "      <th>3</th>\n",
              "      <td>1</td>\n",
              "      <td>inclement weather prevents liar from getting t...</td>\n",
              "    </tr>\n",
              "    <tr>\n",
              "      <th>4</th>\n",
              "      <td>1</td>\n",
              "      <td>mother comes pretty close to using word 'strea...</td>\n",
              "    </tr>\n",
              "  </tbody>\n",
              "</table>\n",
              "</div>"
            ],
            "text/plain": [
              "   is_sarcastic                                           headline\n",
              "0             1  thirtysomething scientists unveil doomsday clo...\n",
              "1             0  dem rep. totally nails why congress is falling...\n",
              "2             0  eat your veggies: 9 deliciously different recipes\n",
              "3             1  inclement weather prevents liar from getting t...\n",
              "4             1  mother comes pretty close to using word 'strea..."
            ]
          },
          "metadata": {
            "tags": []
          },
          "execution_count": 22
        }
      ]
    },
    {
      "cell_type": "code",
      "metadata": {
        "id": "y-Qa8PQgoZG6",
        "colab": {
          "base_uri": "https://localhost:8080/"
        },
        "outputId": "72bf5f0e-bad4-4229-daf2-6b35bf33de16"
      },
      "source": [
        "from keras.preprocessing.text import Tokenizer\n",
        "from keras.preprocessing.sequence import pad_sequences\n",
        "from keras.utils import to_categorical\n",
        "\n",
        "#Note that the training data/test data split will be done later\n",
        "\n",
        "num_words=20000\n",
        "max_sentence_len=300\n",
        "tokenizer=Tokenizer(num_words=num_words)\n",
        "tokenizer.fit_on_texts(list(data[\"headline\"]))\n",
        "X=tokenizer.texts_to_sequences(list(data[\"headline\"]))\n",
        "X=pad_sequences(X,maxlen=max_sentence_len)\n",
        "Y=to_categorical(data[\"is_sarcastic\"].values)\n",
        "print(\"The number of unique words in the text corpus dictionary : {}\".format(len(tokenizer.word_index)))\n",
        "print(\"The shape of the trainable data : {}\".format(X.shape))\n",
        "print(\"The shape of the labels for the data is : {}\".format(Y.shape))"
      ],
      "execution_count": 23,
      "outputs": [
        {
          "output_type": "stream",
          "text": [
            "The number of unique words in the text corpus dictionary : 30884\n",
            "The shape of the trainable data : (28619, 300)\n",
            "The shape of the labels for the data is : (28619, 2)\n"
          ],
          "name": "stdout"
        }
      ]
    },
    {
      "cell_type": "code",
      "metadata": {
        "id": "0VXFkzHEoZsH",
        "colab": {
          "base_uri": "https://localhost:8080/"
        },
        "outputId": "ea17b543-fbf3-45bf-b51e-f55a1eae61f0"
      },
      "source": [
        "#Getting the pre trained GloVe embeddings into the embedding matrix from the link used in this cell\n",
        "embedding_words={}\n",
        "folder_directory=\"/content/drive/My Drive/Sarcasm/glove.6B\"\n",
        "file=open(folder_directory + \"/\" +  \"glove.6B.300d.txt\",'r', encoding=\"utf-8\")\n",
        "for line in file:\n",
        "    #There are a number of lines containing embeddings for each word\n",
        "    info=line.split(\" \")\n",
        "    #The first value in each line of the file is a unique word\n",
        "    word=info[0]\n",
        "    #The rest are embedding values of a specific dimension (to be displayed)\n",
        "    embedding_values=np.array(info[1:],dtype=\"float32\")\n",
        "    #Storing these values\n",
        "    embedding_words[word]=embedding_values\n",
        "file.close()\n",
        "print(\"The dimension/length of the embedding vector for each word is : {}\"\n",
        "     .format(len(embedding_words[\"go\"])))"
      ],
      "execution_count": 24,
      "outputs": [
        {
          "output_type": "stream",
          "text": [
            "The dimension/length of the embedding vector for each word is : 300\n"
          ],
          "name": "stdout"
        }
      ]
    },
    {
      "cell_type": "code",
      "metadata": {
        "id": "9GvPDHZrovMG"
      },
      "source": [
        "from keras.layers import Embedding\n",
        "from keras.initializers import Constant\n",
        "\n",
        "#The length/dimension of the embedding vector was found to be 300 after running the previous cell\n",
        "embedding_dim=len(embedding_words[\"go\"]) #or simply 300\n",
        "#Initialising the embedding matrix\n",
        "embedding_matrix=np.zeros((num_words,embedding_dim))\n",
        "#Forming the embedding matrix by using the embedding vectors for only those words in the text corpus of the data  \n",
        "for word,i in tokenizer.word_index.items():\n",
        "    if i>num_words:\n",
        "        continue\n",
        "    embedding_vector=embedding_words.get(word)\n",
        "    if embedding_vector is not None:\n",
        "        embedding_matrix[i]=embedding_vector"
      ],
      "execution_count": 25,
      "outputs": []
    },
    {
      "cell_type": "code",
      "metadata": {
        "id": "lJr-5Btlov5K",
        "colab": {
          "base_uri": "https://localhost:8080/"
        },
        "outputId": "ca800af0-0493-46c0-a85e-b0ca3713d1c2"
      },
      "source": [
        "#Creating the embedding layer further with the help of keras\n",
        "#These embeddings are made non-trainable as they are pre trained to highly optimized values\n",
        "embeddings=Embedding(num_words,embedding_dim,embeddings_initializer=Constant(embedding_matrix),\n",
        "                    input_length=max_sentence_len,trainable=False)\n",
        "#Getting the shape of the embedding matrix (should be (num_words,embedding_dim)=(20000,300))\n",
        "print(\"The shape of the embedding matrix is {}\".format(embedding_matrix.shape))"
      ],
      "execution_count": 26,
      "outputs": [
        {
          "output_type": "stream",
          "text": [
            "The shape of the embedding matrix is (20000, 300)\n"
          ],
          "name": "stdout"
        }
      ]
    },
    {
      "cell_type": "code",
      "metadata": {
        "id": "WIBhjcraowOR"
      },
      "source": [
        "#Building the model\n",
        "from keras.models import Sequential\n",
        "from keras.layers import Dense, Flatten, Dropout, LSTM, Bidirectional, Conv1D, MaxPooling1D \n",
        "\n",
        "model=Sequential()\n",
        "model.add(embeddings)\n",
        "model.add(Conv1D(32,3,activation=\"relu\"))\n",
        "model.add(MaxPooling1D(pool_size=2))\n",
        "model.add(Dropout(0.5))\n",
        "model.add(Bidirectional(LSTM(128,return_sequences=True)))\n",
        "model.add(Flatten())\n",
        "model.add(Dense(30,activation=\"relu\"))\n",
        "model.add(Dropout(0.5))\n",
        "model.add(Dense(2,activation=\"sigmoid\"))\n",
        "model.compile(loss=\"binary_crossentropy\",optimizer=\"adam\",metrics=[\"accuracy\"])"
      ],
      "execution_count": 27,
      "outputs": []
    },
    {
      "cell_type": "code",
      "metadata": {
        "id": "Iq28QqPzowrq"
      },
      "source": [
        "#Splittting the data into training and testing sets before fitting the model\n",
        "#Using a 80% - 20% split for the data\n",
        "from sklearn.model_selection import train_test_split\n",
        "x_train,x_test,y_train,y_test=train_test_split(X,Y,test_size=0.2)"
      ],
      "execution_count": 28,
      "outputs": []
    },
    {
      "cell_type": "code",
      "metadata": {
        "id": "3FwjX2RkoxAu",
        "colab": {
          "base_uri": "https://localhost:8080/"
        },
        "outputId": "71951fc6-92d0-4bf3-d96a-21c1df89ae4c"
      },
      "source": [
        "batch_size=128 #Using a batch size of 128, during gradient descent\n",
        "num_epochs=10 #Number of iterations/epochs over the training set\n",
        "\n",
        "history=model.fit(x_train,y_train,batch_size=batch_size,epochs=num_epochs,validation_data=(x_test,y_test))"
      ],
      "execution_count": 29,
      "outputs": [
        {
          "output_type": "stream",
          "text": [
            "Epoch 1/10\n",
            "179/179 [==============================] - 17s 45ms/step - loss: 0.6069 - accuracy: 0.6509 - val_loss: 0.4200 - val_accuracy: 0.8103\n",
            "Epoch 2/10\n",
            "179/179 [==============================] - 7s 41ms/step - loss: 0.4438 - accuracy: 0.8008 - val_loss: 0.3713 - val_accuracy: 0.8351\n",
            "Epoch 3/10\n",
            "179/179 [==============================] - 7s 41ms/step - loss: 0.3900 - accuracy: 0.8318 - val_loss: 0.3586 - val_accuracy: 0.8477\n",
            "Epoch 4/10\n",
            "179/179 [==============================] - 7s 41ms/step - loss: 0.3615 - accuracy: 0.8447 - val_loss: 0.3401 - val_accuracy: 0.8505\n",
            "Epoch 5/10\n",
            "179/179 [==============================] - 7s 41ms/step - loss: 0.3462 - accuracy: 0.8479 - val_loss: 0.3376 - val_accuracy: 0.8510\n",
            "Epoch 6/10\n",
            "179/179 [==============================] - 7s 41ms/step - loss: 0.3290 - accuracy: 0.8588 - val_loss: 0.3328 - val_accuracy: 0.8531\n",
            "Epoch 7/10\n",
            "179/179 [==============================] - 7s 41ms/step - loss: 0.3183 - accuracy: 0.8638 - val_loss: 0.3350 - val_accuracy: 0.8560\n",
            "Epoch 8/10\n",
            "179/179 [==============================] - 7s 41ms/step - loss: 0.3023 - accuracy: 0.8736 - val_loss: 0.3312 - val_accuracy: 0.8620\n",
            "Epoch 9/10\n",
            "179/179 [==============================] - 7s 41ms/step - loss: 0.2959 - accuracy: 0.8761 - val_loss: 0.3289 - val_accuracy: 0.8618\n",
            "Epoch 10/10\n",
            "179/179 [==============================] - 7s 41ms/step - loss: 0.2816 - accuracy: 0.8820 - val_loss: 0.3216 - val_accuracy: 0.8601\n"
          ],
          "name": "stdout"
        }
      ]
    },
    {
      "cell_type": "code",
      "metadata": {
        "id": "yuq7IHDToxkI",
        "colab": {
          "base_uri": "https://localhost:8080/"
        },
        "outputId": "da6812f9-f5c0-4211-c1ec-eb92faabaee5"
      },
      "source": [
        "test_performance=model.evaluate(x_test,y_test)\n",
        "print(\"The loss of the model on the test set : {}\".format(test_performance[0]))\n",
        "print(\"The accuracy of the model on the test set : {}%\".format(test_performance[1]*100))"
      ],
      "execution_count": 30,
      "outputs": [
        {
          "output_type": "stream",
          "text": [
            "179/179 [==============================] - 2s 10ms/step - loss: 0.3216 - accuracy: 0.8601\n",
            "The loss of the model on the test set : 0.3216022253036499\n",
            "The accuracy of the model on the test set : 86.00628972053528%\n"
          ],
          "name": "stdout"
        }
      ]
    },
    {
      "cell_type": "code",
      "metadata": {
        "id": "wwCkVUAkpa6b",
        "colab": {
          "base_uri": "https://localhost:8080/"
        },
        "outputId": "904f6c0d-d7bd-4bf5-8af0-8eea08daf544"
      },
      "source": [
        "#Visualising the summary of the network used\n",
        "model.summary()"
      ],
      "execution_count": 31,
      "outputs": [
        {
          "output_type": "stream",
          "text": [
            "Model: \"sequential\"\n",
            "_________________________________________________________________\n",
            "Layer (type)                 Output Shape              Param #   \n",
            "=================================================================\n",
            "embedding (Embedding)        (None, 300, 300)          6000000   \n",
            "_________________________________________________________________\n",
            "conv1d (Conv1D)              (None, 298, 32)           28832     \n",
            "_________________________________________________________________\n",
            "max_pooling1d (MaxPooling1D) (None, 149, 32)           0         \n",
            "_________________________________________________________________\n",
            "dropout (Dropout)            (None, 149, 32)           0         \n",
            "_________________________________________________________________\n",
            "bidirectional (Bidirectional (None, 149, 256)          164864    \n",
            "_________________________________________________________________\n",
            "flatten (Flatten)            (None, 38144)             0         \n",
            "_________________________________________________________________\n",
            "dense (Dense)                (None, 30)                1144350   \n",
            "_________________________________________________________________\n",
            "dropout_1 (Dropout)          (None, 30)                0         \n",
            "_________________________________________________________________\n",
            "dense_1 (Dense)              (None, 2)                 62        \n",
            "=================================================================\n",
            "Total params: 7,338,108\n",
            "Trainable params: 1,338,108\n",
            "Non-trainable params: 6,000,000\n",
            "_________________________________________________________________\n"
          ],
          "name": "stdout"
        }
      ]
    },
    {
      "cell_type": "code",
      "metadata": {
        "id": "_-Ey14U_pbLX",
        "colab": {
          "base_uri": "https://localhost:8080/",
          "height": 953
        },
        "outputId": "e4fbfc16-264e-4d9e-ebeb-8ff59695163c"
      },
      "source": [
        "#Visualising the network architecture of the model\n",
        "from keras.utils import plot_model\n",
        "plot_model(model,to_file=\"bidir_lstm.jpg\")"
      ],
      "execution_count": 32,
      "outputs": [
        {
          "output_type": "execute_result",
          "data": {
            "image/jpeg": "[encoded data removed]",
            "text/plain": [
              "<IPython.core.display.Image object>"
            ]
          },
          "metadata": {
            "tags": []
          },
          "execution_count": 32
        }
      ]
    },
    {
      "cell_type": "code",
      "metadata": {
        "id": "4CzZNE-Spbft",
        "colab": {
          "base_uri": "https://localhost:8080/",
          "height": 295
        },
        "outputId": "cc820698-3513-4db4-c85a-3e1dc9728f69"
      },
      "source": [
        "#Visualising the loss of the model, throughout the training process\n",
        "plt.plot(history.history['loss'])\n",
        "plt.plot(history.history['val_loss'])\n",
        "plt.title('Model loss')\n",
        "plt.ylabel('Loss')\n",
        "plt.xlabel('Epoch')\n",
        "plt.legend(['Train', 'Test'], loc='upper right')\n",
        "plt.savefig(\"modelloss_sarcasmdetection.jpg\")"
      ],
      "execution_count": 33,
      "outputs": [
        {
          "output_type": "display_data",
          "data": {
            "image/png": "[encoded data removed]",
            "text/plain": [
              "<Figure size 432x288 with 1 Axes>"
            ]
          },
          "metadata": {
            "tags": [],
            "needs_background": "light"
          }
        }
      ]
    },
    {
      "cell_type": "code",
      "metadata": {
        "id": "Qks3wKn8pcPc",
        "colab": {
          "base_uri": "https://localhost:8080/",
          "height": 295
        },
        "outputId": "db9b6e56-c9d2-4f39-cee9-627e3d509cd8"
      },
      "source": [
        "#Visualising the accuracy of the model, throughout the training process\n",
        "plt.plot(history.history['accuracy'])\n",
        "plt.plot(history.history['val_accuracy'])\n",
        "plt.title('Model accuracy')\n",
        "plt.ylabel('Accuracy')\n",
        "plt.xlabel('Epoch')\n",
        "plt.legend(['Train', 'Test'], loc='upper left')\n",
        "plt.savefig(\"modelacc_sarcasmdetection.jpg\")"
      ],
      "execution_count": 34,
      "outputs": [
        {
          "output_type": "display_data",
          "data": {
            "image/png": "[encoded data removed]",
            "text/plain": [
              "<Figure size 432x288 with 1 Axes>"
            ]
          },
          "metadata": {
            "tags": [],
            "needs_background": "light"
          }
        }
      ]
    },
    {
      "cell_type": "code",
      "metadata": {
        "id": "5yLsgGCTpct4",
        "colab": {
          "base_uri": "https://localhost:8080/",
          "height": 195
        },
        "outputId": "fea13729-9e4e-4e9c-bb13-074f96295ae3"
      },
      "source": [
        "metric_examples_dir=main_directory + \"/\" + data_files[1]\n",
        "metric_examples=pd.read_json(metric_examples_dir,lines=True)\n",
        "data.head()"
      ],
      "execution_count": 35,
      "outputs": [
        {
          "output_type": "execute_result",
          "data": {
            "text/html": [
              "<div>\n",
              "<style scoped>\n",
              "    .dataframe tbody tr th:only-of-type {\n",
              "        vertical-align: middle;\n",
              "    }\n",
              "\n",
              "    .dataframe tbody tr th {\n",
              "        vertical-align: top;\n",
              "    }\n",
              "\n",
              "    .dataframe thead th {\n",
              "        text-align: right;\n",
              "    }\n",
              "</style>\n",
              "<table border=\"1\" class=\"dataframe\">\n",
              "  <thead>\n",
              "    <tr style=\"text-align: right;\">\n",
              "      <th></th>\n",
              "      <th>is_sarcastic</th>\n",
              "      <th>headline</th>\n",
              "    </tr>\n",
              "  </thead>\n",
              "  <tbody>\n",
              "    <tr>\n",
              "      <th>0</th>\n",
              "      <td>1</td>\n",
              "      <td>thirtysomething scientists unveil doomsday clo...</td>\n",
              "    </tr>\n",
              "    <tr>\n",
              "      <th>1</th>\n",
              "      <td>0</td>\n",
              "      <td>dem rep. totally nails why congress is falling...</td>\n",
              "    </tr>\n",
              "    <tr>\n",
              "      <th>2</th>\n",
              "      <td>0</td>\n",
              "      <td>eat your veggies: 9 deliciously different recipes</td>\n",
              "    </tr>\n",
              "    <tr>\n",
              "      <th>3</th>\n",
              "      <td>1</td>\n",
              "      <td>inclement weather prevents liar from getting t...</td>\n",
              "    </tr>\n",
              "    <tr>\n",
              "      <th>4</th>\n",
              "      <td>1</td>\n",
              "      <td>mother comes pretty close to using word 'strea...</td>\n",
              "    </tr>\n",
              "  </tbody>\n",
              "</table>\n",
              "</div>"
            ],
            "text/plain": [
              "   is_sarcastic                                           headline\n",
              "0             1  thirtysomething scientists unveil doomsday clo...\n",
              "1             0  dem rep. totally nails why congress is falling...\n",
              "2             0  eat your veggies: 9 deliciously different recipes\n",
              "3             1  inclement weather prevents liar from getting t...\n",
              "4             1  mother comes pretty close to using word 'strea..."
            ]
          },
          "metadata": {
            "tags": []
          },
          "execution_count": 35
        }
      ]
    },
    {
      "cell_type": "code",
      "metadata": {
        "id": "WNyvis0PqRXO",
        "colab": {
          "base_uri": "https://localhost:8080/",
          "height": 195
        },
        "outputId": "3b8fcad3-36e3-4417-a7a7-42c3efa0ef2c"
      },
      "source": [
        "metric_examples[\"organization\"]=metric_examples[\"article_link\"].apply(lambda x: re.findall(r\"\\w+\",x)[2])\n",
        "metric_examples=metric_examples.drop([\"article_link\"],axis=1)\n",
        "metric_examples.head()"
      ],
      "execution_count": 36,
      "outputs": [
        {
          "output_type": "execute_result",
          "data": {
            "text/html": [
              "<div>\n",
              "<style scoped>\n",
              "    .dataframe tbody tr th:only-of-type {\n",
              "        vertical-align: middle;\n",
              "    }\n",
              "\n",
              "    .dataframe tbody tr th {\n",
              "        vertical-align: top;\n",
              "    }\n",
              "\n",
              "    .dataframe thead th {\n",
              "        text-align: right;\n",
              "    }\n",
              "</style>\n",
              "<table border=\"1\" class=\"dataframe\">\n",
              "  <thead>\n",
              "    <tr style=\"text-align: right;\">\n",
              "      <th></th>\n",
              "      <th>headline</th>\n",
              "      <th>is_sarcastic</th>\n",
              "      <th>organization</th>\n",
              "    </tr>\n",
              "  </thead>\n",
              "  <tbody>\n",
              "    <tr>\n",
              "      <th>0</th>\n",
              "      <td>former versace store clerk sues over secret 'b...</td>\n",
              "      <td>0</td>\n",
              "      <td>huffingtonpost</td>\n",
              "    </tr>\n",
              "    <tr>\n",
              "      <th>1</th>\n",
              "      <td>the 'roseanne' revival catches up to our thorn...</td>\n",
              "      <td>0</td>\n",
              "      <td>huffingtonpost</td>\n",
              "    </tr>\n",
              "    <tr>\n",
              "      <th>2</th>\n",
              "      <td>mom starting to fear son's web series closest ...</td>\n",
              "      <td>1</td>\n",
              "      <td>theonion</td>\n",
              "    </tr>\n",
              "    <tr>\n",
              "      <th>3</th>\n",
              "      <td>boehner just wants wife to listen, not come up...</td>\n",
              "      <td>1</td>\n",
              "      <td>theonion</td>\n",
              "    </tr>\n",
              "    <tr>\n",
              "      <th>4</th>\n",
              "      <td>j.k. rowling wishes snape happy birthday in th...</td>\n",
              "      <td>0</td>\n",
              "      <td>huffingtonpost</td>\n",
              "    </tr>\n",
              "  </tbody>\n",
              "</table>\n",
              "</div>"
            ],
            "text/plain": [
              "                                            headline  ...    organization\n",
              "0  former versace store clerk sues over secret 'b...  ...  huffingtonpost\n",
              "1  the 'roseanne' revival catches up to our thorn...  ...  huffingtonpost\n",
              "2  mom starting to fear son's web series closest ...  ...        theonion\n",
              "3  boehner just wants wife to listen, not come up...  ...        theonion\n",
              "4  j.k. rowling wishes snape happy birthday in th...  ...  huffingtonpost\n",
              "\n",
              "[5 rows x 3 columns]"
            ]
          },
          "metadata": {
            "tags": []
          },
          "execution_count": 36
        }
      ]
    },
    {
      "cell_type": "code",
      "metadata": {
        "id": "Pc0kcPqbVpRQ",
        "colab": {
          "base_uri": "https://localhost:8080/"
        },
        "outputId": "963b291c-3d4d-4149-9382-5e47ff9f75b2"
      },
      "source": [
        "metric_examples.info()"
      ],
      "execution_count": 37,
      "outputs": [
        {
          "output_type": "stream",
          "text": [
            "<class 'pandas.core.frame.DataFrame'>\n",
            "RangeIndex: 26709 entries, 0 to 26708\n",
            "Data columns (total 3 columns):\n",
            " #   Column        Non-Null Count  Dtype \n",
            "---  ------        --------------  ----- \n",
            " 0   headline      26709 non-null  object\n",
            " 1   is_sarcastic  26709 non-null  int64 \n",
            " 2   organization  26709 non-null  object\n",
            "dtypes: int64(1), object(2)\n",
            "memory usage: 626.1+ KB\n"
          ],
          "name": "stdout"
        }
      ]
    },
    {
      "cell_type": "code",
      "metadata": {
        "id": "WXNehAGgqRsK"
      },
      "source": [
        "#Initializing all the metrics for evaluation\n",
        "true_positive = 0 \n",
        "true_negative = 0 \n",
        "false_positive = 0 \n",
        "false_negative = 0"
      ],
      "execution_count": 38,
      "outputs": []
    },
    {
      "cell_type": "code",
      "metadata": {
        "colab": {
          "base_uri": "https://localhost:8080/"
        },
        "id": "ykOMGzcvaD0I",
        "outputId": "51004b04-13c8-462b-9bc9-d7febeca6bad"
      },
      "source": [
        "my_headline1=\"report: 70% of trump endorsements made after staring at bedroom ceiling for 4 hours\" # Meant to be sarcastic\n",
        "my_headline2=\"7 questions about the recent oil price slump\" # Meant to be non-sarcastic\n",
        "\n",
        "my_headline11=tokenizer.texts_to_sequences(my_headline1)\n",
        "my_headline22=tokenizer.texts_to_sequences(my_headline2)\n",
        "\n",
        "my_headline11=pad_sequences(my_headline11,maxlen=max_sentence_len,dtype=\"int32\",value=0)\n",
        "my_headline22=pad_sequences(my_headline22,maxlen=max_sentence_len,dtype=\"int32\",value=0)\n",
        "\n",
        "prediction1=model.predict(my_headline11,batch_size=1)[0]\n",
        "prediction2=model.predict(my_headline22,batch_size=1)[0]\n",
        "\n",
        "if np.argmax(prediction1)==1:\n",
        "    print(\"The headline - \" + my_headline1 + \" : Sarcastic\")\n",
        "else:\n",
        "    print(\"The headline - \" + my_headline1 + \" : Not Sarcastic\")\n",
        "    \n",
        "if np.argmax(prediction2)==1:\n",
        "    print(\"The headline - \" + my_headline2 + \" : Sarcastic\")\n",
        "else:\n",
        "    print(\"The headline - \" + my_headline2 + \" : Not Sarcastic\")"
      ],
      "execution_count": 39,
      "outputs": [
        {
          "output_type": "stream",
          "text": [
            "The headline - report: 70% of trump endorsements made after staring at bedroom ceiling for 4 hours : Sarcastic\n",
            "The headline - 7 questions about the recent oil price slump : Not Sarcastic\n"
          ],
          "name": "stdout"
        }
      ]
    },
    {
      "cell_type": "code",
      "metadata": {
        "id": "5B0z0VFOqSPJ",
        "colab": {
          "base_uri": "https://localhost:8080/"
        },
        "outputId": "0fbc5928-8954-4d85-ca22-a0919bc8082f"
      },
      "source": [
        "#Checking the performance of the model\n",
        "for i in range(y_test.shape[0]):\n",
        "  x = x_test[i].reshape(1,300)\n",
        "  prediction = model.predict(x,batch_size=1)[0]\n",
        "  if(np.argmax(prediction)==np.argmax(y_test[i]) and np.argmax(prediction)==1) :\n",
        "    true_positive+=1 \n",
        "  elif(np.argmax(prediction)==np.argmax(y_test[i]) and np.argmax(prediction)==0) :\n",
        "    true_negative+=1\n",
        "  elif(np.argmax(prediction)!=np.argmax(y_test[i]) and np.argmax(prediction)==1) :\n",
        "    false_positive+=1 \n",
        "  else :\n",
        "    false_negative+=1\n",
        "precision = true_positive/(true_positive+false_positive)\n",
        "recall = true_positive/(true_positive+false_negative)\n",
        "f1score = (2*precision*recall)/(precision+recall)\n",
        "print(\"True Positives : {}, True Negatives : {}, False Positives : {}, False Negatives : {}\".format(true_positive,true_negative,false_positive,false_negative))\n",
        "print(\"Precision : {}, Recall : {}, F1 Score : {}\".format(precision,recall,f1score))"
      ],
      "execution_count": 40,
      "outputs": [
        {
          "output_type": "stream",
          "text": [
            "True Positives : 2330, True Negatives : 2593, False Positives : 403, False Negatives : 398\n",
            "Precision : 0.8525429930479327, Recall : 0.8541055718475073, F1 Score : 0.8533235671122505\n"
          ],
          "name": "stdout"
        }
      ]
    }
  ]
}